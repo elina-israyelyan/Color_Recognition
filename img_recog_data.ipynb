{
 "cells": [
  {
   "cell_type": "code",
   "execution_count": 1,
   "metadata": {},
   "outputs": [],
   "source": [
    "import pandas as pd"
   ]
  },
  {
   "cell_type": "code",
   "execution_count": 2,
   "metadata": {},
   "outputs": [],
   "source": [
    "df = pd.read_csv(\"colors.csv\", names=[\"name\",\"Name\",\"Number\",\"r\",\"g\", \"b\"])"
   ]
  },
  {
   "cell_type": "code",
   "execution_count": 3,
   "metadata": {},
   "outputs": [],
   "source": [
    "df[\"R\"] = df.r.apply(lambda x: int(x)/255) \n",
    "df[\"G\"]= df.g.apply(lambda x: int(x)/255) \n",
    "df[\"B\"] = df.b.apply(lambda x: int(x)/255) \n",
    "\n"
   ]
  },
  {
   "cell_type": "code",
   "execution_count": 4,
   "metadata": {},
   "outputs": [
    {
     "name": "stderr",
     "output_type": "stream",
     "text": [
      "C:\\Users\\elina\\anaconda3\\lib\\site-packages\\ipykernel_launcher.py:5: RuntimeWarning: invalid value encountered in double_scalars\n",
      "  \"\"\"\n"
     ]
    }
   ],
   "source": [
    "for i in range(len(df)):\n",
    "    pix_max = max([df.loc[i,\"r\"],df.loc[i,\"g\"], df.loc[i,\"b\"]])\n",
    "    pix_min = min([df.loc[i,\"r\"],df.loc[i,\"g\"], df.loc[i,\"b\"]])\n",
    "    if pix_max == df.loc[i,\"r\"]:\n",
    "        df.loc[i,\"Hue\"] = ((df.loc[i,\"G\"]-df.loc[i,\"B\"])/(pix_max-pix_min))*60\n",
    "    elif pix_max == df.loc[i,\"g\"]:\n",
    "        df.loc[i,\"Hue\"] = (((df.loc[i,\"B\"]-df.loc[i,\"R\"])/(pix_max-pix_min))+2)*60\n",
    "    elif pix_max == df.loc[i,\"b\"]:\n",
    "        df.loc[i,\"Hue\"] = (((df.loc[i,\"R\"]-df.loc[i,\"G\"])/(pix_max-pix_min))+4)*60\n",
    "    "
   ]
  },
  {
   "cell_type": "code",
   "execution_count": 5,
   "metadata": {},
   "outputs": [
    {
     "name": "stderr",
     "output_type": "stream",
     "text": [
      "C:\\Users\\elina\\anaconda3\\lib\\site-packages\\ipykernel_launcher.py:1: SettingWithCopyWarning: \n",
      "A value is trying to be set on a copy of a slice from a DataFrame\n",
      "\n",
      "See the caveats in the documentation: https://pandas.pydata.org/pandas-docs/stable/user_guide/indexing.html#returning-a-view-versus-a-copy\n",
      "  \"\"\"Entry point for launching an IPython kernel.\n"
     ]
    }
   ],
   "source": [
    "df.Hue[df[\"Hue\"]<0]=df.Hue+360"
   ]
  },
  {
   "cell_type": "code",
   "execution_count": 30,
   "metadata": {},
   "outputs": [],
   "source": [
    "for i in range(len(df)):\n",
    "    if df.loc[i,\"Hue\"]<30:\n",
    "        df.loc[i,\"name\"]= \"Red\"\n",
    "    elif df.loc[i,\"Hue\"]<60:\n",
    "        df.loc[i,\"name\"]= \"Orange\"\n",
    "    elif df.loc[i,\"Hue\"]<90:\n",
    "        df.loc[i,\"name\"]= \"Yellow\"\n",
    "    elif df.loc[i,\"Hue\"]<120:\n",
    "        df.loc[i,\"name\"]= \"Yellow Green/Leaf Green\"\n",
    "    elif df.loc[i,\"Hue\"]<150:\n",
    "        df.loc[i,\"name\"]= \"Green\"\n",
    "    elif df.loc[i,\"Hue\"]<180:\n",
    "        df.loc[i,\"name\"]= \"Turquoise\"\n",
    "    elif df.loc[i,\"Hue\"]<210:\n",
    "        df.loc[i,\"name\"]= \"Cyan Blue\"\n",
    "    elif df.loc[i,\"Hue\"]<240:\n",
    "        df.loc[i,\"name\"]= \"Blue\"\n",
    "    elif df.loc[i,\"Hue\"]<270:\n",
    "        df.loc[i,\"name\"]= \"Warm Blue/Violet\"\n",
    "    elif df.loc[i,\"Hue\"]<300:\n",
    "        df.loc[i,\"name\"]= \"Purple\"\n",
    "    elif df.loc[i,\"Hue\"]<330:\n",
    "        df.loc[i,\"name\"]= \"Magenta\"\n",
    "    else:\n",
    "        df.loc[i,\"name\"]= \"Scarlet/Rose\"\n",
    "        \n",
    "        \n",
    "    \n",
    "    "
   ]
  },
  {
   "cell_type": "code",
   "execution_count": 46,
   "metadata": {},
   "outputs": [],
   "source": [
    "df.to_csv(\"colors_names_.csv\")"
   ]
  },
  {
   "cell_type": "markdown",
   "metadata": {},
   "source": [
    "df"
   ]
  }
 ],
 "metadata": {
  "kernelspec": {
   "display_name": "Python 3",
   "language": "python",
   "name": "python3"
  },
  "language_info": {
   "codemirror_mode": {
    "name": "ipython",
    "version": 3
   },
   "file_extension": ".py",
   "mimetype": "text/x-python",
   "name": "python",
   "nbconvert_exporter": "python",
   "pygments_lexer": "ipython3",
   "version": "3.7.6"
  }
 },
 "nbformat": 4,
 "nbformat_minor": 4
}
